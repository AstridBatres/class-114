{
 "cells": [
  {
   "cell_type": "code",
   "execution_count": 1,
   "id": "6cc2835c",
   "metadata": {},
   "outputs": [],
   "source": [
    "class Node:\n",
    "    def __init__(self, data):\n",
    "        self.next = None\n",
    "        self.prev = None\n",
    "        self.data = data"
   ]
  },
  {
   "cell_type": "code",
   "execution_count": 2,
   "id": "d485b20f",
   "metadata": {},
   "outputs": [],
   "source": [
    "class DoublyLinkedList:\n",
    "    def __init__(self):\n",
    "        self.head = None\n",
    "        self.tail = None\n",
    "        \n",
    "    def append(self, value):\n",
    "        if not self.head:\n",
    "            self.head = Node(value)\n",
    "            self.tail = self.head\n",
    "        else: \n",
    "            current = self.head\n",
    "            while current.next:\n",
    "                current = current.next\n",
    "            new_node = Node(value)\n",
    "            current.next = new_node\n",
    "            new_node.prev = current\n",
    "            self.tail = new_node\n",
    "            \n",
    "    def __str__(self):\n",
    "        out = \"[%s\" % self.head.data\n",
    "        current = self.head.next\n",
    "        while current:\n",
    "            out += \",%s\" % current.data\n",
    "            current = current.next\n",
    "        out += \"]\"\n",
    "        return out\n",
    "    \n",
    "    def sequential_search(self, value):\n",
    "        current = self.head\n",
    "        while current.data != value and current.next:\n",
    "            current = current.next\n",
    "#            if current.data > value:\n",
    "#                break\n",
    "        if current.data == value:\n",
    "            return True\n",
    "        return False\n",
    "    \n",
    "    def binary_search(self, value):\n",
    "#binary search:\n",
    "# loop infinitely:\n",
    "# pivot1 = self.head\n",
    "# pivot2  = self.trial\n",
    "# midpoint = the node at (length of our list)/2 \n",
    "# if value is greater than midpiont.data:\n",
    "#  pivot2=midpoint\n",
    "#if value == midpoint.data\n",
    "#   return True\n",
    "# if pivot1 >= pivot 2:\n",
    "# return False"
   ]
  },
  {
   "cell_type": "code",
   "execution_count": 7,
   "id": "75a6fb36",
   "metadata": {},
   "outputs": [
    {
     "name": "stdout",
     "output_type": "stream",
     "text": [
      "My age is 100\n",
      "My age is 100 and here's another variable: A\n",
      "My age is 100\n",
      "My age is 100\n"
     ]
    }
   ],
   "source": [
    "age = 100\n",
    "other = \"A\"\n",
    "mystring = \"My age is \" + str(age)\n",
    "\n",
    "print(mystring)\n",
    "\n",
    "mystring = \"My age is %s and here's another variable: %s\" % (age, other) \n",
    "\n",
    "print(mystring)\n",
    "\n",
    "mystring = \"My age is {}\".format(age)\n",
    "\n",
    "print(mystring)\n",
    "\n",
    "mystring = f\"My age is {str(age)}\"\n",
    "\n",
    "print(mystring)"
   ]
  },
  {
   "cell_type": "code",
   "execution_count": 9,
   "id": "220e1ec1",
   "metadata": {},
   "outputs": [
    {
     "name": "stdout",
     "output_type": "stream",
     "text": [
      "[10,,82,18,70,22,54,55,67,61,10,34,66,2,62,37,23,71,13,55,53,25,75,81,17,56,24,31,83,93,92,97,35,18,74,53,10,11,68,94,87,41,40,20,7,14,45,90,74,94,62,38,52,68,36,20,85,8,56,96,24,57,51,6,71,26,51,81,79,19,47,64,64,61,50,28,35,24,14,2,93,89,14,90,54,70,43,90,38,33,53,83,99,87,97,63,53,48,9,45,24]\n"
     ]
    }
   ],
   "source": [
    "from random import randint\n",
    "dll = DoublyLinkedList()\n",
    "\n",
    "for i in range(1, 101):\n",
    "    dll.append(randint(1,100))\n",
    "    \n",
    "print(dll)"
   ]
  },
  {
   "cell_type": "code",
   "execution_count": null,
   "id": "c411046c",
   "metadata": {},
   "outputs": [],
   "source": [
    "from functools import lru_cache\n",
    "\n",
    "def fib(n):\n",
    "    if n< 2:\n",
    "        return n \n",
    "    return fib(n-1) + fib(n-2)"
   ]
  }
 ],
 "metadata": {
  "kernelspec": {
   "display_name": "Python 3 (ipykernel)",
   "language": "python",
   "name": "python3"
  },
  "language_info": {
   "codemirror_mode": {
    "name": "ipython",
    "version": 3
   },
   "file_extension": ".py",
   "mimetype": "text/x-python",
   "name": "python",
   "nbconvert_exporter": "python",
   "pygments_lexer": "ipython3",
   "version": "3.10.4"
  }
 },
 "nbformat": 4,
 "nbformat_minor": 5
}
