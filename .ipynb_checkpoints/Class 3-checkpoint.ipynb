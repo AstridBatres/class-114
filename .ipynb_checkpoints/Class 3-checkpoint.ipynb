{
 "cells": [
  {
   "cell_type": "markdown",
   "id": "42fdcfb1",
   "metadata": {},
   "source": [
    "# Balanced parantheses check \n",
    "\n",
    "### Given a string of opening and closing paranthesis, check wheter it is balanced. \n",
    "### There are 3 types of parantheses here: roud (), square brackets [], and curly brakets (braces) {}\n",
    "\n",
    "_Assumptions_\n",
    "1. Assume the string doesn't contain any other character other than the ones mentioned above (no spaces, words or numbers). \n",
    "2. Balanced parantheses require every opening parantheses to be closed in the reverse order opened. \n",
    "\n",
    "```\n",
    "Examples:\n",
    "balance_check(\"([{}])\") should return True\n",
    "balance_check(\"{{{}}]\") should return False\n",
    "\n",
    "Similarly:\n",
    "\"()()(){{{}}}\" is a balanced string\n",
    "\"()(){]((()))\" is not \n",
    "```\n",
    "\n",
    "#### Instructions \n",
    "Create a function called \"balance_check\" that takes a string as its paramater and return True if it is balanced considering the criteria mentioned above; False otherwise. "
   ]
  },
  {
   "cell_type": "code",
   "execution_count": 1,
   "id": "59f9479c",
   "metadata": {},
   "outputs": [],
   "source": [
    "def balance_check(s):\n",
    "    if len(s) % 2 != 0:\n",
    "        return False \n",
    "    opening = [\"(,\" \"[\", \"{\"]\n",
    "    matches=[\n",
    "        (\"(\", \")\"),\n",
    "        (\"[\", \"]\"),\n",
    "        (\"{\", \"}\")\n",
    "    ]\n",
    "    stack =[]\n",
    "    for paren in s:\n",
    "        if paren in opening:\n",
    "            stack.append(paren)\n",
    "        else:\n",
    "            if stack == []:\n",
    "                return False\n",
    "            last_open = stack.pop()\n",
    "            if (last_open, paren) not in matches:\n",
    "                return False\n",
    "    return stack == []\n",
    "            "
   ]
  },
  {
   "cell_type": "code",
   "execution_count": 3,
   "id": "b0c532a1",
   "metadata": {},
   "outputs": [
    {
     "data": {
      "text/plain": [
       "False"
      ]
     },
     "execution_count": 3,
     "metadata": {},
     "output_type": "execute_result"
    }
   ],
   "source": [
    "balance_check(\"(((([[{{{}}}]]))))\")"
   ]
  },
  {
   "cell_type": "markdown",
   "id": "60d50426",
   "metadata": {},
   "source": [
    "# Implement a queue using two stacks"
   ]
  },
  {
   "cell_type": "code",
   "execution_count": 4,
   "id": "9848fcf9",
   "metadata": {},
   "outputs": [],
   "source": [
    "class Queue2Stacks:\n",
    "    def _init_(self):\n",
    "        #Two stacks\n",
    "        self.stack1=[]\n",
    "        self.stack2=[]\n",
    "        \n",
    "    def enqueue(self, element):\n",
    "        # code\n",
    "        pass\n",
    "    \n",
    "    def deqeue(self):\n",
    "        #code\n",
    "        pass"
   ]
  },
  {
   "cell_type": "code",
   "execution_count": 9,
   "id": "5b4d59f0",
   "metadata": {},
   "outputs": [],
   "source": [
    "class Node:\n",
    "    def _init_(self,data):\n",
    "        self.next=None\n",
    "        self.data=data"
   ]
  },
  {
   "cell_type": "code",
   "execution_count": 24,
   "id": "b890f945",
   "metadata": {},
   "outputs": [
    {
     "ename": "SyntaxError",
     "evalue": "incomplete input (1666180101.py, line 83)",
     "output_type": "error",
     "traceback": [
      "\u001b[0;36m  Input \u001b[0;32mIn [24]\u001b[0;36m\u001b[0m\n\u001b[0;31m    \u001b[0m\n\u001b[0m    ^\u001b[0m\n\u001b[0;31mSyntaxError\u001b[0m\u001b[0;31m:\u001b[0m incomplete input\n"
     ]
    }
   ],
   "source": [
    "class SinglyLinkedList:\n",
    "    def _init_(self):\n",
    "        self.head = None\n",
    "        \n",
    "    def append(self, element):\n",
    "        if not self.head:        #equivalent to saying \"while current.next !=None\"\n",
    "            self.head = Node(element)\n",
    "        else:\n",
    "            current = self.head\n",
    "            while current.next:\n",
    "                current = current.next\n",
    "            current.next = Node(element)\n",
    "            \n",
    "    def insert(self, index, element):\n",
    "        # implement the insert method which adds a new Node with \"element\" set at its data attribute\n",
    "        # before a given index (also a parameter to this method)\n",
    "        if not self.head:\n",
    "            self.head = Node(element)\n",
    "        else:\n",
    "            counter: 0\n",
    "            current = self.head\n",
    "            prev = None\n",
    "            while current.next and counter != index:\n",
    "                prev = current\n",
    "                current = current.next\n",
    "                counter += 1\n",
    "            if index == 0:\n",
    "                current_head = self.head\n",
    "                new_node = Node(element)\n",
    "                new_node.next = current_head\n",
    "                self.head = new_node\n",
    "            elif counter != index:\n",
    "                current.next= Node(element)\n",
    "            elif counter == index:\n",
    "                new_node = Node(element)\n",
    "                prev.next = new_node\n",
    "                new_node.next = current\n",
    "                \n",
    "    def remove(self, value):\n",
    "        found= False\n",
    "        if self.head:\n",
    "            current = self.head\n",
    "            if current.data == value:\n",
    "                self.head = self.head.next\n",
    "                found = True\n",
    "            else:\n",
    "                prev = None\n",
    "                while current.next and current.data != value:\n",
    "                    prev = current\n",
    "                    current = current.next\n",
    "                if current.data == value:\n",
    "                    prev.next = current.next\n",
    "                    found = True\n",
    "        if not found:                                               #if found != True\n",
    "            raise ValueError(\"%s not in list\" % value)\n",
    "                \n",
    "    def __str__(self):\n",
    "        out = \"[%s\" % self.head.data\n",
    "        current = self.head \n",
    "        while current:\n",
    "            current = current.next\n",
    "            out += \", %s\" % current.data\n",
    "        out += \"]\"\n",
    "        return out\n",
    "    \n",
    "    def __len__(self):\n",
    "        if not self.head:\n",
    "             return 0\n",
    "        else:\n",
    "            current = self.head\n",
    "            counter = 0\n",
    "            while current.next: \n",
    "                current = current.next\n",
    "                counter += 1\n",
    "            return counter\n",
    "    \n",
    "    def count(self, value):\n",
    "        if not self.head:\n",
    "            return 0\n",
    "        else:\n",
    "            \n",
    "    \n",
    "    def index(self, value):\n",
    "    \n",
    "    "
   ]
  },
  {
   "cell_type": "code",
   "execution_count": 7,
   "id": "b1185d64",
   "metadata": {},
   "outputs": [
    {
     "name": "stdout",
     "output_type": "stream",
     "text": [
      "[1, 2, 3, 4, 5]\n"
     ]
    }
   ],
   "source": [
    "mylist = [1,2,3,4,5]\n",
    "\n",
    "print(mylist)"
   ]
  },
  {
   "cell_type": "code",
   "execution_count": 22,
   "id": "93f9cd39",
   "metadata": {},
   "outputs": [
    {
     "ename": "AttributeError",
     "evalue": "'SinglyLinkedList' object has no attribute 'head'",
     "output_type": "error",
     "traceback": [
      "\u001b[0;31m---------------------------------------------------------------------------\u001b[0m",
      "\u001b[0;31mAttributeError\u001b[0m                            Traceback (most recent call last)",
      "Input \u001b[0;32mIn [22]\u001b[0m, in \u001b[0;36m<cell line: 3>\u001b[0;34m()\u001b[0m\n\u001b[1;32m      1\u001b[0m sll \u001b[38;5;241m=\u001b[39m SinglyLinkedList()\n\u001b[1;32m      3\u001b[0m \u001b[38;5;28;01mfor\u001b[39;00m number \u001b[38;5;129;01min\u001b[39;00m \u001b[38;5;28mrange\u001b[39m (\u001b[38;5;241m1\u001b[39m, \u001b[38;5;241m6\u001b[39m):\n\u001b[0;32m----> 4\u001b[0m     \u001b[43msll\u001b[49m\u001b[38;5;241;43m.\u001b[39;49m\u001b[43mappend\u001b[49m\u001b[43m(\u001b[49m\u001b[43mnumber\u001b[49m\u001b[43m)\u001b[49m\n\u001b[1;32m      6\u001b[0m \u001b[38;5;28mprint\u001b[39m(sll)\n\u001b[1;32m      8\u001b[0m sll\u001b[38;5;241m.\u001b[39minsert(\u001b[38;5;241m0\u001b[39m,\u001b[38;5;241m0\u001b[39m)\n",
      "Input \u001b[0;32mIn [16]\u001b[0m, in \u001b[0;36mSinglyLinkedList.append\u001b[0;34m(self, element)\u001b[0m\n\u001b[1;32m      5\u001b[0m \u001b[38;5;28;01mdef\u001b[39;00m \u001b[38;5;21mappend\u001b[39m(\u001b[38;5;28mself\u001b[39m, element):\n\u001b[0;32m----> 6\u001b[0m     \u001b[38;5;28;01mif\u001b[39;00m \u001b[38;5;129;01mnot\u001b[39;00m \u001b[38;5;28;43mself\u001b[39;49m\u001b[38;5;241;43m.\u001b[39;49m\u001b[43mhead\u001b[49m:        \u001b[38;5;66;03m#equivalent to saying \"while current.next !=None\"\u001b[39;00m\n\u001b[1;32m      7\u001b[0m         \u001b[38;5;28mself\u001b[39m\u001b[38;5;241m.\u001b[39mhead \u001b[38;5;241m=\u001b[39m Node(element)\n\u001b[1;32m      8\u001b[0m     \u001b[38;5;28;01melse\u001b[39;00m:\n",
      "\u001b[0;31mAttributeError\u001b[0m: 'SinglyLinkedList' object has no attribute 'head'"
     ]
    }
   ],
   "source": [
    "sll = SinglyLinkedList()\n",
    "\n",
    "for number in range (1, 6):\n",
    "    sll.append(number)\n",
    "    \n",
    "print(sll)\n",
    "\n",
    "sll.insert(0,0)\n",
    "\n",
    "print(sll)\n",
    "\n",
    "sll.insert(2, 1.5)\n",
    "\n",
    "print(sll)\n",
    "\n",
    "sll.insert(1000, 6)\n",
    "\n",
    "print(sll)\n",
    "\n",
    "sll.remove(0)\n",
    "\n",
    "print(\"Remove head:\")\n",
    "print (sll)\n",
    "\n",
    "sll.remove(1.5)\n",
    "\n",
    "sll.remove(3)\n",
    "\n",
    "print(sll)\n",
    "\n",
    "\n",
    "len(sll)"
   ]
  },
  {
   "cell_type": "code",
   "execution_count": null,
   "id": "d4628120",
   "metadata": {},
   "outputs": [],
   "source": []
  }
 ],
 "metadata": {
  "kernelspec": {
   "display_name": "Python 3 (ipykernel)",
   "language": "python",
   "name": "python3"
  },
  "language_info": {
   "codemirror_mode": {
    "name": "ipython",
    "version": 3
   },
   "file_extension": ".py",
   "mimetype": "text/x-python",
   "name": "python",
   "nbconvert_exporter": "python",
   "pygments_lexer": "ipython3",
   "version": "3.10.4"
  }
 },
 "nbformat": 4,
 "nbformat_minor": 5
}
