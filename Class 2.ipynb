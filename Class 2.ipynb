{
 "cells": [
  {
   "cell_type": "code",
   "execution_count": 1,
   "id": "145ba57d",
   "metadata": {},
   "outputs": [
    {
     "ename": "SyntaxError",
     "evalue": "invalid syntax (3126575553.py, line 13)",
     "output_type": "error",
     "traceback": [
      "\u001b[0;36m  Input \u001b[0;32mIn [1]\u001b[0;36m\u001b[0m\n\u001b[0;31m    topmost element\u001b[0m\n\u001b[0m            ^\u001b[0m\n\u001b[0;31mSyntaxError\u001b[0m\u001b[0;31m:\u001b[0m invalid syntax\n"
     ]
    }
   ],
   "source": [
    "class Stack:\n",
    "    def __init__(self):\n",
    "     self.base = None\n",
    "     self.top = None\n",
    "\n",
    "    def push(self, element):\n",
    "     if not self.base:\n",
    "      self.base = Node(element)\n",
    "      self.top = self.base\n",
    "     else:\n",
    "       topmost_item = self.top\n",
    "       new_node = Node(element)\n",
    "       topmost element\n",
    "        "
   ]
  },
  {
   "cell_type": "code",
   "execution_count": null,
   "id": "c7f32017",
   "metadata": {},
   "outputs": [],
   "source": [
    "def reverse_string(mystring):\n",
    "    output_str= \"\"\n",
    "    stack = Stack ()\n",
    "    for letter in mystring:\n",
    "        stack.push(letter)\n",
    "    for _ in range (len())"
   ]
  }
 ],
 "metadata": {
  "kernelspec": {
   "display_name": "Python 3 (ipykernel)",
   "language": "python",
   "name": "python3"
  },
  "language_info": {
   "codemirror_mode": {
    "name": "ipython",
    "version": 3
   },
   "file_extension": ".py",
   "mimetype": "text/x-python",
   "name": "python",
   "nbconvert_exporter": "python",
   "pygments_lexer": "ipython3",
   "version": "3.10.4"
  }
 },
 "nbformat": 4,
 "nbformat_minor": 5
}
